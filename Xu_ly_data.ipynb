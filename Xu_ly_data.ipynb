{
 "cells": [
  {
   "cell_type": "code",
   "execution_count": 1,
   "id": "8231c74d",
   "metadata": {},
   "outputs": [],
   "source": [
    "import numpy as np\n",
    "import pandas as pd"
   ]
  },
  {
   "cell_type": "code",
   "execution_count": 2,
   "id": "77b54c26",
   "metadata": {},
   "outputs": [],
   "source": [
    "\n",
    "df = pd.read_excel(\"data\\\\data.xlsx\")"
   ]
  },
  {
   "cell_type": "code",
   "execution_count": 3,
   "id": "06b54dd9",
   "metadata": {},
   "outputs": [
    {
     "data": {
      "text/plain": [
       "Ngay                                        0\n",
       "Gio                                         0\n",
       "Luong mua                                2547\n",
       "Trượt lở (0-Không; 1-Xảy ra trượt lở)       0\n",
       "dtype: int64"
      ]
     },
     "execution_count": 3,
     "metadata": {},
     "output_type": "execute_result"
    }
   ],
   "source": [
    "nan_counts = df.isna().sum()\n",
    "nan_counts"
   ]
  },
  {
   "cell_type": "markdown",
   "id": "704fb3c5",
   "metadata": {},
   "source": [
    "Nếu dữ liệu cùng ngày thì nan được thay bằng trung bình lượng mưa 3 giờ liên tiếp cùng ngày"
   ]
  },
  {
   "cell_type": "code",
   "execution_count": 4,
   "id": "55a9f682",
   "metadata": {},
   "outputs": [],
   "source": [
    "mua = df['Luong mua'].copy()"
   ]
  },
  {
   "cell_type": "code",
   "execution_count": 5,
   "id": "e0fc1baf",
   "metadata": {},
   "outputs": [],
   "source": [
    "for i in range(len(mua)):\n",
    "    if pd.isna(mua[i]):\n",
    "        temp= [mua[i-1],mua[i-2],mua[i-3]]\n",
    "        mua[i]=np.nanmean(temp)\n",
    "\n",
    "df['Luong mua']=mua\n",
    "df = df.rename(columns={\"Trượt lở (0-Không; 1-Xảy ra trượt lở)\": \"truot_lo\"})\n"
   ]
  },
  {
   "cell_type": "code",
   "execution_count": 6,
   "id": "f9281f9e",
   "metadata": {},
   "outputs": [
    {
     "data": {
      "text/plain": [
       "Ngay         0\n",
       "Gio          0\n",
       "Luong mua    0\n",
       "truot_lo     0\n",
       "dtype: int64"
      ]
     },
     "execution_count": 6,
     "metadata": {},
     "output_type": "execute_result"
    }
   ],
   "source": [
    "nan_counts = df.isna().sum()\n",
    "nan_counts"
   ]
  },
  {
   "cell_type": "code",
   "execution_count": 7,
   "id": "9147c9c1",
   "metadata": {},
   "outputs": [],
   "source": [
    "df.to_csv('data\\\\data.csv', index=False)  "
   ]
  },
  {
   "cell_type": "code",
   "execution_count": 8,
   "id": "d2532384",
   "metadata": {},
   "outputs": [
    {
     "data": {
      "text/plain": [
       "truot_lo\n",
       "0    87551\n",
       "1      121\n",
       "Name: count, dtype: int64"
      ]
     },
     "execution_count": 8,
     "metadata": {},
     "output_type": "execute_result"
    }
   ],
   "source": [
    "df['truot_lo'].value_counts()\n"
   ]
  },
  {
   "cell_type": "markdown",
   "id": "a5c291f4",
   "metadata": {},
   "source": [
    "Mất cân bằng dữ liệu. Xử lý dự đoán bằng tính thống kê.\n"
   ]
  },
  {
   "cell_type": "markdown",
   "id": "cbe646de",
   "metadata": {},
   "source": [
    "Mức độ sạt lở được đánh giá bằng xác suất sạt lờ tại giờ,ngày tháng đó và tương quan lượng mưa so với lượng mưa sạt lở thấp nhất tại giờ đó "
   ]
  },
  {
   "cell_type": "code",
   "execution_count": 9,
   "id": "d12a21db",
   "metadata": {},
   "outputs": [],
   "source": [
    "def chuan_bi_data():\n",
    "    df['Ngay'] = pd.to_datetime(df['Ngay'], format='%Y-%m-%d', errors='coerce')\n",
    "    df['month'] = df['Ngay'].dt.month\n",
    "    df['day'] = df['Ngay'].dt.day\n",
    "    df['hour'] = df['Gio']\n",
    "    df['thoi_diem'] = df.apply(\n",
    "        lambda row: f\"{int(row['month']):02d}-{int(row['day']):02d} {int(row['hour']):02d}h\",\n",
    "        axis=1\n",
    "    )\n",
    "    df_sl = df[df['truot_lo'] == 1]\n",
    "    mua_min = df_sl['Luong mua'].min()\n",
    "    mua_tb = df_sl.groupby('thoi_diem')['Luong mua'].mean().reset_index(name='luong_mua_tb_khi_satlo')\n",
    "    xac_suat = df.groupby('thoi_diem')['truot_lo'].mean().reset_index(name='xac_suat_satlo')\n",
    "    tk = xac_suat.merge(mua_tb, on='thoi_diem', how='left') \n",
    "    tk = tk.fillna(0)\n",
    "    tk['xac_suat_satlo'] = (tk['xac_suat_satlo'] > 0).astype(int)\n",
    "    tk['luong_mua_min_satlo'] = mua_min\n",
    "    tk.to_csv(\"data\\\\du_doan.csv\", index=False)\n"
   ]
  },
  {
   "cell_type": "code",
   "execution_count": 10,
   "id": "8b8bd098",
   "metadata": {},
   "outputs": [],
   "source": [
    "chuan_bi_data()"
   ]
  },
  {
   "cell_type": "code",
   "execution_count": null,
   "id": "8388f7f3",
   "metadata": {},
   "outputs": [
    {
     "data": {
      "text/plain": [
       "'Cao.'"
      ]
     },
     "execution_count": 16,
     "metadata": {},
     "output_type": "execute_result"
    }
   ],
   "source": [
    "\n",
    "def du_doan(gio, ngay, thang, luong_mua, file_path='data\\du_doan.csv'):\n",
    "    thoi_diem = f\"{int(thang):02d}-{int(ngay):02d} {int(gio):02d}h\"\n",
    "    try:\n",
    "        df = pd.read_csv(file_path)\n",
    "        row = df[df['thoi_diem'] == thoi_diem]\n",
    "        if row.empty:\n",
    "            return f\"Khong\"\n",
    "        xac_suat = row['xac_suat_satlo'].values[0]\n",
    "        mua_tb = row['luong_mua_tb_khi_satlo'].values[0]\n",
    "        mua_min = row['luong_mua_min_satlo'].iloc[0]\n",
    "        \n",
    "        if luong_mua >= mua_min :\n",
    "            return f'Cao'\n",
    "        if xac_suat == 0:\n",
    "            return f\"Thap\"\n",
    "\n",
    "        if luong_mua >= mua_tb:\n",
    "            return f\"Cao\"\n",
    "        else:\n",
    "            return f\"Thap\"\n",
    "\n",
    "    except FileNotFoundError:\n",
    "        return \n",
    "    \n",
    "du_doan(21,8,7,15)\n"
   ]
  }
 ],
 "metadata": {
  "kernelspec": {
   "display_name": "Python 3",
   "language": "python",
   "name": "python3"
  },
  "language_info": {
   "codemirror_mode": {
    "name": "ipython",
    "version": 3
   },
   "file_extension": ".py",
   "mimetype": "text/x-python",
   "name": "python",
   "nbconvert_exporter": "python",
   "pygments_lexer": "ipython3",
   "version": "3.10.0"
  }
 },
 "nbformat": 4,
 "nbformat_minor": 5
}
